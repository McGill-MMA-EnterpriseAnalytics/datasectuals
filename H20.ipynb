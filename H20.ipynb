{
 "cells": [
  {
   "cell_type": "code",
   "execution_count": 2,
   "metadata": {},
   "outputs": [
    {
     "name": "stdout",
     "output_type": "stream",
     "text": [
      "Requirement already satisfied: requests in c:\\users\\sherry\\anaconda3\\lib\\site-packages (2.22.0)\n",
      "Requirement already satisfied: certifi>=2017.4.17 in c:\\users\\sherry\\anaconda3\\lib\\site-packages (from requests) (2019.9.11)\n",
      "Requirement already satisfied: idna<2.9,>=2.5 in c:\\users\\sherry\\anaconda3\\lib\\site-packages (from requests) (2.8)\n",
      "Requirement already satisfied: chardet<3.1.0,>=3.0.2 in c:\\users\\sherry\\anaconda3\\lib\\site-packages (from requests) (3.0.4)\n",
      "Requirement already satisfied: urllib3!=1.25.0,!=1.25.1,<1.26,>=1.21.1 in c:\\users\\sherry\\anaconda3\\lib\\site-packages (from requests) (1.24.2)\n",
      "Requirement already satisfied: tabulate in c:\\users\\sherry\\anaconda3\\lib\\site-packages (0.8.6)\n",
      "Requirement already satisfied: colorama>=0.3.8 in c:\\users\\sherry\\anaconda3\\lib\\site-packages (0.4.1)\n",
      "Requirement already satisfied: future in c:\\users\\sherry\\anaconda3\\lib\\site-packages (0.18.2)\n"
     ]
    }
   ],
   "source": [
    "!pip install requests\n",
    "!pip install tabulate\n",
    "!pip install \"colorama>=0.3.8\"\n",
    "!pip install future"
   ]
  },
  {
   "cell_type": "code",
   "execution_count": 3,
   "metadata": {},
   "outputs": [
    {
     "name": "stdout",
     "output_type": "stream",
     "text": [
      "Checking whether there is an H2O instance running at http://localhost:54321 ..... not found.\n",
      "Attempting to start a local H2O server...\n",
      "; Java HotSpot(TM) 64-Bit Server VM (build 13.0.2+8, mixed mode, sharing)\n",
      "  Starting server from C:\\Users\\Sherry\\Anaconda3\\lib\\site-packages\\h2o\\backend\\bin\\h2o.jar\n",
      "  Ice root: C:\\Users\\Sherry\\AppData\\Local\\Temp\\tmpwmfvs9a8\n",
      "  JVM stdout: C:\\Users\\Sherry\\AppData\\Local\\Temp\\tmpwmfvs9a8\\h2o_Sherry_started_from_python.out\n",
      "  JVM stderr: C:\\Users\\Sherry\\AppData\\Local\\Temp\\tmpwmfvs9a8\\h2o_Sherry_started_from_python.err\n",
      "  Server is running at http://127.0.0.1:54321\n",
      "Connecting to H2O server at http://127.0.0.1:54321 ... successful.\n"
     ]
    },
    {
     "data": {
      "text/html": [
       "<div style=\"overflow:auto\"><table style=\"width:50%\"><tr><td>H2O cluster uptime:</td>\n",
       "<td>02 secs</td></tr>\n",
       "<tr><td>H2O cluster timezone:</td>\n",
       "<td>America/New_York</td></tr>\n",
       "<tr><td>H2O data parsing timezone:</td>\n",
       "<td>UTC</td></tr>\n",
       "<tr><td>H2O cluster version:</td>\n",
       "<td>3.28.0.3</td></tr>\n",
       "<tr><td>H2O cluster version age:</td>\n",
       "<td>8 days </td></tr>\n",
       "<tr><td>H2O cluster name:</td>\n",
       "<td>H2O_from_python_Sherry_1c7xoy</td></tr>\n",
       "<tr><td>H2O cluster total nodes:</td>\n",
       "<td>1</td></tr>\n",
       "<tr><td>H2O cluster free memory:</td>\n",
       "<td>3.973 Gb</td></tr>\n",
       "<tr><td>H2O cluster total cores:</td>\n",
       "<td>8</td></tr>\n",
       "<tr><td>H2O cluster allowed cores:</td>\n",
       "<td>8</td></tr>\n",
       "<tr><td>H2O cluster status:</td>\n",
       "<td>accepting new members, healthy</td></tr>\n",
       "<tr><td>H2O connection url:</td>\n",
       "<td>http://127.0.0.1:54321</td></tr>\n",
       "<tr><td>H2O connection proxy:</td>\n",
       "<td>{'http': None, 'https': None}</td></tr>\n",
       "<tr><td>H2O internal security:</td>\n",
       "<td>False</td></tr>\n",
       "<tr><td>H2O API Extensions:</td>\n",
       "<td>Amazon S3, Algos, AutoML, Core V3, TargetEncoder, Core V4</td></tr>\n",
       "<tr><td>Python version:</td>\n",
       "<td>3.7.4 final</td></tr></table></div>"
      ],
      "text/plain": [
       "--------------------------  ---------------------------------------------------------\n",
       "H2O cluster uptime:         02 secs\n",
       "H2O cluster timezone:       America/New_York\n",
       "H2O data parsing timezone:  UTC\n",
       "H2O cluster version:        3.28.0.3\n",
       "H2O cluster version age:    8 days\n",
       "H2O cluster name:           H2O_from_python_Sherry_1c7xoy\n",
       "H2O cluster total nodes:    1\n",
       "H2O cluster free memory:    3.973 Gb\n",
       "H2O cluster total cores:    8\n",
       "H2O cluster allowed cores:  8\n",
       "H2O cluster status:         accepting new members, healthy\n",
       "H2O connection url:         http://127.0.0.1:54321\n",
       "H2O connection proxy:       {'http': None, 'https': None}\n",
       "H2O internal security:      False\n",
       "H2O API Extensions:         Amazon S3, Algos, AutoML, Core V3, TargetEncoder, Core V4\n",
       "Python version:             3.7.4 final\n",
       "--------------------------  ---------------------------------------------------------"
      ]
     },
     "metadata": {},
     "output_type": "display_data"
    }
   ],
   "source": [
    "import h2o\n",
    "from h2o.automl import H2OAutoML\n",
    "from h2o.estimators.deeplearning import H2ODeepLearningEstimator\n",
    "h2o.init()"
   ]
  },
  {
   "cell_type": "code",
   "execution_count": 4,
   "metadata": {},
   "outputs": [
    {
     "name": "stdout",
     "output_type": "stream",
     "text": [
      "Parse progress: |█████████████████████████████████████████████████████████| 100%\n"
     ]
    },
    {
     "data": {
      "text/html": [
       "<table>\n",
       "<thead>\n",
       "<tr><th style=\"text-align: right;\">  age</th><th>job       </th><th>marital  </th><th>education  </th><th>default  </th><th style=\"text-align: right;\">  balance</th><th>housing  </th><th>loan  </th><th>contact  </th><th style=\"text-align: right;\">  day</th><th>month  </th><th style=\"text-align: right;\">  duration</th><th style=\"text-align: right;\">  campaign</th><th style=\"text-align: right;\">  pdays</th><th style=\"text-align: right;\">  previous</th><th>poutcome  </th><th style=\"text-align: right;\">  deposit</th></tr>\n",
       "</thead>\n",
       "<tbody>\n",
       "<tr><td style=\"text-align: right;\">   59</td><td>admin.    </td><td>married  </td><td>secondary  </td><td>no       </td><td style=\"text-align: right;\">     2343</td><td>yes      </td><td>no    </td><td>unknown  </td><td style=\"text-align: right;\">    5</td><td>may    </td><td style=\"text-align: right;\">      1042</td><td style=\"text-align: right;\">         1</td><td style=\"text-align: right;\">     -1</td><td style=\"text-align: right;\">         0</td><td>unknown   </td><td style=\"text-align: right;\">        1</td></tr>\n",
       "<tr><td style=\"text-align: right;\">   56</td><td>admin.    </td><td>married  </td><td>secondary  </td><td>no       </td><td style=\"text-align: right;\">       45</td><td>no       </td><td>no    </td><td>unknown  </td><td style=\"text-align: right;\">    5</td><td>may    </td><td style=\"text-align: right;\">      1467</td><td style=\"text-align: right;\">         1</td><td style=\"text-align: right;\">     -1</td><td style=\"text-align: right;\">         0</td><td>unknown   </td><td style=\"text-align: right;\">        1</td></tr>\n",
       "<tr><td style=\"text-align: right;\">   41</td><td>technician</td><td>married  </td><td>secondary  </td><td>no       </td><td style=\"text-align: right;\">     1270</td><td>yes      </td><td>no    </td><td>unknown  </td><td style=\"text-align: right;\">    5</td><td>may    </td><td style=\"text-align: right;\">      1389</td><td style=\"text-align: right;\">         1</td><td style=\"text-align: right;\">     -1</td><td style=\"text-align: right;\">         0</td><td>unknown   </td><td style=\"text-align: right;\">        1</td></tr>\n",
       "<tr><td style=\"text-align: right;\">   55</td><td>services  </td><td>married  </td><td>secondary  </td><td>no       </td><td style=\"text-align: right;\">     2476</td><td>yes      </td><td>no    </td><td>unknown  </td><td style=\"text-align: right;\">    5</td><td>may    </td><td style=\"text-align: right;\">       579</td><td style=\"text-align: right;\">         1</td><td style=\"text-align: right;\">     -1</td><td style=\"text-align: right;\">         0</td><td>unknown   </td><td style=\"text-align: right;\">        1</td></tr>\n",
       "<tr><td style=\"text-align: right;\">   54</td><td>admin.    </td><td>married  </td><td>tertiary   </td><td>no       </td><td style=\"text-align: right;\">      184</td><td>no       </td><td>no    </td><td>unknown  </td><td style=\"text-align: right;\">    5</td><td>may    </td><td style=\"text-align: right;\">       673</td><td style=\"text-align: right;\">         2</td><td style=\"text-align: right;\">     -1</td><td style=\"text-align: right;\">         0</td><td>unknown   </td><td style=\"text-align: right;\">        1</td></tr>\n",
       "<tr><td style=\"text-align: right;\">   42</td><td>management</td><td>single   </td><td>tertiary   </td><td>no       </td><td style=\"text-align: right;\">        0</td><td>yes      </td><td>yes   </td><td>unknown  </td><td style=\"text-align: right;\">    5</td><td>may    </td><td style=\"text-align: right;\">       562</td><td style=\"text-align: right;\">         2</td><td style=\"text-align: right;\">     -1</td><td style=\"text-align: right;\">         0</td><td>unknown   </td><td style=\"text-align: right;\">        1</td></tr>\n",
       "<tr><td style=\"text-align: right;\">   56</td><td>management</td><td>married  </td><td>tertiary   </td><td>no       </td><td style=\"text-align: right;\">      830</td><td>yes      </td><td>yes   </td><td>unknown  </td><td style=\"text-align: right;\">    6</td><td>may    </td><td style=\"text-align: right;\">      1201</td><td style=\"text-align: right;\">         1</td><td style=\"text-align: right;\">     -1</td><td style=\"text-align: right;\">         0</td><td>unknown   </td><td style=\"text-align: right;\">        1</td></tr>\n",
       "<tr><td style=\"text-align: right;\">   60</td><td>retired   </td><td>divorced </td><td>secondary  </td><td>no       </td><td style=\"text-align: right;\">      545</td><td>yes      </td><td>no    </td><td>unknown  </td><td style=\"text-align: right;\">    6</td><td>may    </td><td style=\"text-align: right;\">      1030</td><td style=\"text-align: right;\">         1</td><td style=\"text-align: right;\">     -1</td><td style=\"text-align: right;\">         0</td><td>unknown   </td><td style=\"text-align: right;\">        1</td></tr>\n",
       "<tr><td style=\"text-align: right;\">   37</td><td>technician</td><td>married  </td><td>secondary  </td><td>no       </td><td style=\"text-align: right;\">        1</td><td>yes      </td><td>no    </td><td>unknown  </td><td style=\"text-align: right;\">    6</td><td>may    </td><td style=\"text-align: right;\">       608</td><td style=\"text-align: right;\">         1</td><td style=\"text-align: right;\">     -1</td><td style=\"text-align: right;\">         0</td><td>unknown   </td><td style=\"text-align: right;\">        1</td></tr>\n",
       "<tr><td style=\"text-align: right;\">   28</td><td>services  </td><td>single   </td><td>secondary  </td><td>no       </td><td style=\"text-align: right;\">     5090</td><td>yes      </td><td>no    </td><td>unknown  </td><td style=\"text-align: right;\">    6</td><td>may    </td><td style=\"text-align: right;\">      1297</td><td style=\"text-align: right;\">         3</td><td style=\"text-align: right;\">     -1</td><td style=\"text-align: right;\">         0</td><td>unknown   </td><td style=\"text-align: right;\">        1</td></tr>\n",
       "</tbody>\n",
       "</table>"
      ]
     },
     "metadata": {},
     "output_type": "display_data"
    },
    {
     "data": {
      "text/plain": []
     },
     "execution_count": 4,
     "metadata": {},
     "output_type": "execute_result"
    }
   ],
   "source": [
    "raw_dataset = h2o.import_file(\"C:\\\\Users\\\\Sherry\\\\Desktop\\\\bank.csv\")\n",
    "raw_dataset.head()"
   ]
  },
  {
   "cell_type": "code",
   "execution_count": 5,
   "metadata": {
    "scrolled": true
   },
   "outputs": [
    {
     "name": "stdout",
     "output_type": "stream",
     "text": [
      "Rows:11162\n",
      "Cols:17\n",
      "\n",
      "\n"
     ]
    },
    {
     "data": {
      "text/html": [
       "<table>\n",
       "<thead>\n",
       "<tr><th>       </th><th>age               </th><th>job       </th><th>marital  </th><th>education  </th><th>default  </th><th>balance           </th><th>housing  </th><th>loan  </th><th>contact  </th><th>day               </th><th>month  </th><th>duration          </th><th>campaign         </th><th>pdays             </th><th>previous          </th><th>poutcome  </th><th>deposit           </th></tr>\n",
       "</thead>\n",
       "<tbody>\n",
       "<tr><td>type   </td><td>int               </td><td>enum      </td><td>enum     </td><td>enum       </td><td>enum     </td><td>int               </td><td>enum     </td><td>enum  </td><td>enum     </td><td>int               </td><td>enum   </td><td>int               </td><td>int              </td><td>int               </td><td>int               </td><td>enum      </td><td>int               </td></tr>\n",
       "<tr><td>mins   </td><td>18.0              </td><td>          </td><td>         </td><td>           </td><td>         </td><td>-6847.0           </td><td>         </td><td>      </td><td>         </td><td>1.0               </td><td>       </td><td>2.0               </td><td>1.0              </td><td>-1.0              </td><td>0.0               </td><td>          </td><td>0.0               </td></tr>\n",
       "<tr><td>mean   </td><td>41.231947679627304</td><td>          </td><td>         </td><td>           </td><td>         </td><td>1528.5385235620856</td><td>         </td><td>      </td><td>         </td><td>15.658036194230426</td><td>       </td><td>371.99381831213043</td><td>2.508421429851281</td><td>51.33040673714388 </td><td>0.8325568894463358</td><td>          </td><td>0.4738398136534671</td></tr>\n",
       "<tr><td>maxs   </td><td>95.0              </td><td>          </td><td>         </td><td>           </td><td>         </td><td>81204.0           </td><td>         </td><td>      </td><td>         </td><td>31.0              </td><td>       </td><td>3881.0            </td><td>63.0             </td><td>854.0             </td><td>58.0              </td><td>          </td><td>1.0               </td></tr>\n",
       "<tr><td>sigma  </td><td>11.913369192215526</td><td>          </td><td>         </td><td>           </td><td>         </td><td>3225.413325946151 </td><td>         </td><td>      </td><td>         </td><td>8.420739541006451 </td><td>       </td><td>347.1283857163058 </td><td>2.722077181661486</td><td>108.75828197197697</td><td>2.2920072186705047</td><td>          </td><td>0.4993375439121514</td></tr>\n",
       "<tr><td>zeros  </td><td>0                 </td><td>          </td><td>         </td><td>           </td><td>         </td><td>774               </td><td>         </td><td>      </td><td>         </td><td>0                 </td><td>       </td><td>0                 </td><td>0                </td><td>0                 </td><td>8324              </td><td>          </td><td>5873              </td></tr>\n",
       "<tr><td>missing</td><td>0                 </td><td>0         </td><td>0        </td><td>0          </td><td>0        </td><td>0                 </td><td>0        </td><td>0     </td><td>0        </td><td>0                 </td><td>0      </td><td>0                 </td><td>0                </td><td>0                 </td><td>0                 </td><td>0         </td><td>0                 </td></tr>\n",
       "<tr><td>0      </td><td>59.0              </td><td>admin.    </td><td>married  </td><td>secondary  </td><td>no       </td><td>2343.0            </td><td>yes      </td><td>no    </td><td>unknown  </td><td>5.0               </td><td>may    </td><td>1042.0            </td><td>1.0              </td><td>-1.0              </td><td>0.0               </td><td>unknown   </td><td>1.0               </td></tr>\n",
       "<tr><td>1      </td><td>56.0              </td><td>admin.    </td><td>married  </td><td>secondary  </td><td>no       </td><td>45.0              </td><td>no       </td><td>no    </td><td>unknown  </td><td>5.0               </td><td>may    </td><td>1467.0            </td><td>1.0              </td><td>-1.0              </td><td>0.0               </td><td>unknown   </td><td>1.0               </td></tr>\n",
       "<tr><td>2      </td><td>41.0              </td><td>technician</td><td>married  </td><td>secondary  </td><td>no       </td><td>1270.0            </td><td>yes      </td><td>no    </td><td>unknown  </td><td>5.0               </td><td>may    </td><td>1389.0            </td><td>1.0              </td><td>-1.0              </td><td>0.0               </td><td>unknown   </td><td>1.0               </td></tr>\n",
       "<tr><td>3      </td><td>55.0              </td><td>services  </td><td>married  </td><td>secondary  </td><td>no       </td><td>2476.0            </td><td>yes      </td><td>no    </td><td>unknown  </td><td>5.0               </td><td>may    </td><td>579.0             </td><td>1.0              </td><td>-1.0              </td><td>0.0               </td><td>unknown   </td><td>1.0               </td></tr>\n",
       "<tr><td>4      </td><td>54.0              </td><td>admin.    </td><td>married  </td><td>tertiary   </td><td>no       </td><td>184.0             </td><td>no       </td><td>no    </td><td>unknown  </td><td>5.0               </td><td>may    </td><td>673.0             </td><td>2.0              </td><td>-1.0              </td><td>0.0               </td><td>unknown   </td><td>1.0               </td></tr>\n",
       "<tr><td>5      </td><td>42.0              </td><td>management</td><td>single   </td><td>tertiary   </td><td>no       </td><td>0.0               </td><td>yes      </td><td>yes   </td><td>unknown  </td><td>5.0               </td><td>may    </td><td>562.0             </td><td>2.0              </td><td>-1.0              </td><td>0.0               </td><td>unknown   </td><td>1.0               </td></tr>\n",
       "<tr><td>6      </td><td>56.0              </td><td>management</td><td>married  </td><td>tertiary   </td><td>no       </td><td>830.0             </td><td>yes      </td><td>yes   </td><td>unknown  </td><td>6.0               </td><td>may    </td><td>1201.0            </td><td>1.0              </td><td>-1.0              </td><td>0.0               </td><td>unknown   </td><td>1.0               </td></tr>\n",
       "<tr><td>7      </td><td>60.0              </td><td>retired   </td><td>divorced </td><td>secondary  </td><td>no       </td><td>545.0             </td><td>yes      </td><td>no    </td><td>unknown  </td><td>6.0               </td><td>may    </td><td>1030.0            </td><td>1.0              </td><td>-1.0              </td><td>0.0               </td><td>unknown   </td><td>1.0               </td></tr>\n",
       "<tr><td>8      </td><td>37.0              </td><td>technician</td><td>married  </td><td>secondary  </td><td>no       </td><td>1.0               </td><td>yes      </td><td>no    </td><td>unknown  </td><td>6.0               </td><td>may    </td><td>608.0             </td><td>1.0              </td><td>-1.0              </td><td>0.0               </td><td>unknown   </td><td>1.0               </td></tr>\n",
       "<tr><td>9      </td><td>28.0              </td><td>services  </td><td>single   </td><td>secondary  </td><td>no       </td><td>5090.0            </td><td>yes      </td><td>no    </td><td>unknown  </td><td>6.0               </td><td>may    </td><td>1297.0            </td><td>3.0              </td><td>-1.0              </td><td>0.0               </td><td>unknown   </td><td>1.0               </td></tr>\n",
       "</tbody>\n",
       "</table>"
      ]
     },
     "metadata": {},
     "output_type": "display_data"
    }
   ],
   "source": [
    "raw_dataset.describe()"
   ]
  },
  {
   "cell_type": "code",
   "execution_count": 6,
   "metadata": {},
   "outputs": [],
   "source": [
    "raw_dataset['deposit'] = raw_dataset['deposit'].asfactor()"
   ]
  },
  {
   "cell_type": "code",
   "execution_count": 7,
   "metadata": {},
   "outputs": [
    {
     "data": {
      "text/html": [
       "<table>\n",
       "<thead>\n",
       "<tr><th style=\"text-align: right;\">  age</th><th>job       </th><th>marital  </th><th>education  </th><th>default  </th><th style=\"text-align: right;\">  balance</th><th>housing  </th><th>loan  </th><th>contact  </th><th style=\"text-align: right;\">  day</th><th>month  </th><th style=\"text-align: right;\">  duration</th><th style=\"text-align: right;\">  campaign</th><th style=\"text-align: right;\">  pdays</th><th style=\"text-align: right;\">  previous</th><th>poutcome  </th><th style=\"text-align: right;\">  deposit</th></tr>\n",
       "</thead>\n",
       "<tbody>\n",
       "<tr><td style=\"text-align: right;\">   59</td><td>admin.    </td><td>married  </td><td>secondary  </td><td>no       </td><td style=\"text-align: right;\">     2343</td><td>yes      </td><td>no    </td><td>unknown  </td><td style=\"text-align: right;\">    5</td><td>may    </td><td style=\"text-align: right;\">      1042</td><td style=\"text-align: right;\">         1</td><td style=\"text-align: right;\">     -1</td><td style=\"text-align: right;\">         0</td><td>unknown   </td><td style=\"text-align: right;\">        1</td></tr>\n",
       "<tr><td style=\"text-align: right;\">   56</td><td>admin.    </td><td>married  </td><td>secondary  </td><td>no       </td><td style=\"text-align: right;\">       45</td><td>no       </td><td>no    </td><td>unknown  </td><td style=\"text-align: right;\">    5</td><td>may    </td><td style=\"text-align: right;\">      1467</td><td style=\"text-align: right;\">         1</td><td style=\"text-align: right;\">     -1</td><td style=\"text-align: right;\">         0</td><td>unknown   </td><td style=\"text-align: right;\">        1</td></tr>\n",
       "<tr><td style=\"text-align: right;\">   41</td><td>technician</td><td>married  </td><td>secondary  </td><td>no       </td><td style=\"text-align: right;\">     1270</td><td>yes      </td><td>no    </td><td>unknown  </td><td style=\"text-align: right;\">    5</td><td>may    </td><td style=\"text-align: right;\">      1389</td><td style=\"text-align: right;\">         1</td><td style=\"text-align: right;\">     -1</td><td style=\"text-align: right;\">         0</td><td>unknown   </td><td style=\"text-align: right;\">        1</td></tr>\n",
       "<tr><td style=\"text-align: right;\">   55</td><td>services  </td><td>married  </td><td>secondary  </td><td>no       </td><td style=\"text-align: right;\">     2476</td><td>yes      </td><td>no    </td><td>unknown  </td><td style=\"text-align: right;\">    5</td><td>may    </td><td style=\"text-align: right;\">       579</td><td style=\"text-align: right;\">         1</td><td style=\"text-align: right;\">     -1</td><td style=\"text-align: right;\">         0</td><td>unknown   </td><td style=\"text-align: right;\">        1</td></tr>\n",
       "<tr><td style=\"text-align: right;\">   54</td><td>admin.    </td><td>married  </td><td>tertiary   </td><td>no       </td><td style=\"text-align: right;\">      184</td><td>no       </td><td>no    </td><td>unknown  </td><td style=\"text-align: right;\">    5</td><td>may    </td><td style=\"text-align: right;\">       673</td><td style=\"text-align: right;\">         2</td><td style=\"text-align: right;\">     -1</td><td style=\"text-align: right;\">         0</td><td>unknown   </td><td style=\"text-align: right;\">        1</td></tr>\n",
       "<tr><td style=\"text-align: right;\">   42</td><td>management</td><td>single   </td><td>tertiary   </td><td>no       </td><td style=\"text-align: right;\">        0</td><td>yes      </td><td>yes   </td><td>unknown  </td><td style=\"text-align: right;\">    5</td><td>may    </td><td style=\"text-align: right;\">       562</td><td style=\"text-align: right;\">         2</td><td style=\"text-align: right;\">     -1</td><td style=\"text-align: right;\">         0</td><td>unknown   </td><td style=\"text-align: right;\">        1</td></tr>\n",
       "<tr><td style=\"text-align: right;\">   56</td><td>management</td><td>married  </td><td>tertiary   </td><td>no       </td><td style=\"text-align: right;\">      830</td><td>yes      </td><td>yes   </td><td>unknown  </td><td style=\"text-align: right;\">    6</td><td>may    </td><td style=\"text-align: right;\">      1201</td><td style=\"text-align: right;\">         1</td><td style=\"text-align: right;\">     -1</td><td style=\"text-align: right;\">         0</td><td>unknown   </td><td style=\"text-align: right;\">        1</td></tr>\n",
       "<tr><td style=\"text-align: right;\">   60</td><td>retired   </td><td>divorced </td><td>secondary  </td><td>no       </td><td style=\"text-align: right;\">      545</td><td>yes      </td><td>no    </td><td>unknown  </td><td style=\"text-align: right;\">    6</td><td>may    </td><td style=\"text-align: right;\">      1030</td><td style=\"text-align: right;\">         1</td><td style=\"text-align: right;\">     -1</td><td style=\"text-align: right;\">         0</td><td>unknown   </td><td style=\"text-align: right;\">        1</td></tr>\n",
       "<tr><td style=\"text-align: right;\">   37</td><td>technician</td><td>married  </td><td>secondary  </td><td>no       </td><td style=\"text-align: right;\">        1</td><td>yes      </td><td>no    </td><td>unknown  </td><td style=\"text-align: right;\">    6</td><td>may    </td><td style=\"text-align: right;\">       608</td><td style=\"text-align: right;\">         1</td><td style=\"text-align: right;\">     -1</td><td style=\"text-align: right;\">         0</td><td>unknown   </td><td style=\"text-align: right;\">        1</td></tr>\n",
       "<tr><td style=\"text-align: right;\">   28</td><td>services  </td><td>single   </td><td>secondary  </td><td>no       </td><td style=\"text-align: right;\">     5090</td><td>yes      </td><td>no    </td><td>unknown  </td><td style=\"text-align: right;\">    6</td><td>may    </td><td style=\"text-align: right;\">      1297</td><td style=\"text-align: right;\">         3</td><td style=\"text-align: right;\">     -1</td><td style=\"text-align: right;\">         0</td><td>unknown   </td><td style=\"text-align: right;\">        1</td></tr>\n",
       "</tbody>\n",
       "</table>"
      ]
     },
     "metadata": {},
     "output_type": "display_data"
    },
    {
     "data": {
      "text/plain": []
     },
     "execution_count": 7,
     "metadata": {},
     "output_type": "execute_result"
    }
   ],
   "source": [
    "raw_dataset.head()"
   ]
  },
  {
   "cell_type": "code",
   "execution_count": 8,
   "metadata": {},
   "outputs": [
    {
     "name": "stdout",
     "output_type": "stream",
     "text": [
      "Rows:11162\n",
      "Cols:17\n",
      "\n",
      "\n"
     ]
    },
    {
     "data": {
      "text/html": [
       "<table>\n",
       "<thead>\n",
       "<tr><th>       </th><th>age               </th><th>job       </th><th>marital  </th><th>education  </th><th>default  </th><th>balance           </th><th>housing  </th><th>loan  </th><th>contact  </th><th>day               </th><th>month  </th><th>duration          </th><th>campaign         </th><th>pdays             </th><th>previous          </th><th>poutcome  </th><th>deposit  </th></tr>\n",
       "</thead>\n",
       "<tbody>\n",
       "<tr><td>type   </td><td>int               </td><td>enum      </td><td>enum     </td><td>enum       </td><td>enum     </td><td>int               </td><td>enum     </td><td>enum  </td><td>enum     </td><td>int               </td><td>enum   </td><td>int               </td><td>int              </td><td>int               </td><td>int               </td><td>enum      </td><td>enum     </td></tr>\n",
       "<tr><td>mins   </td><td>18.0              </td><td>          </td><td>         </td><td>           </td><td>         </td><td>-6847.0           </td><td>         </td><td>      </td><td>         </td><td>1.0               </td><td>       </td><td>2.0               </td><td>1.0              </td><td>-1.0              </td><td>0.0               </td><td>          </td><td>         </td></tr>\n",
       "<tr><td>mean   </td><td>41.231947679627304</td><td>          </td><td>         </td><td>           </td><td>         </td><td>1528.5385235620856</td><td>         </td><td>      </td><td>         </td><td>15.658036194230426</td><td>       </td><td>371.99381831213043</td><td>2.508421429851281</td><td>51.33040673714388 </td><td>0.8325568894463358</td><td>          </td><td>         </td></tr>\n",
       "<tr><td>maxs   </td><td>95.0              </td><td>          </td><td>         </td><td>           </td><td>         </td><td>81204.0           </td><td>         </td><td>      </td><td>         </td><td>31.0              </td><td>       </td><td>3881.0            </td><td>63.0             </td><td>854.0             </td><td>58.0              </td><td>          </td><td>         </td></tr>\n",
       "<tr><td>sigma  </td><td>11.913369192215526</td><td>          </td><td>         </td><td>           </td><td>         </td><td>3225.413325946151 </td><td>         </td><td>      </td><td>         </td><td>8.420739541006451 </td><td>       </td><td>347.1283857163058 </td><td>2.722077181661486</td><td>108.75828197197697</td><td>2.2920072186705047</td><td>          </td><td>         </td></tr>\n",
       "<tr><td>zeros  </td><td>0                 </td><td>          </td><td>         </td><td>           </td><td>         </td><td>774               </td><td>         </td><td>      </td><td>         </td><td>0                 </td><td>       </td><td>0                 </td><td>0                </td><td>0                 </td><td>8324              </td><td>          </td><td>         </td></tr>\n",
       "<tr><td>missing</td><td>0                 </td><td>0         </td><td>0        </td><td>0          </td><td>0        </td><td>0                 </td><td>0        </td><td>0     </td><td>0        </td><td>0                 </td><td>0      </td><td>0                 </td><td>0                </td><td>0                 </td><td>0                 </td><td>0         </td><td>0        </td></tr>\n",
       "<tr><td>0      </td><td>59.0              </td><td>admin.    </td><td>married  </td><td>secondary  </td><td>no       </td><td>2343.0            </td><td>yes      </td><td>no    </td><td>unknown  </td><td>5.0               </td><td>may    </td><td>1042.0            </td><td>1.0              </td><td>-1.0              </td><td>0.0               </td><td>unknown   </td><td>1        </td></tr>\n",
       "<tr><td>1      </td><td>56.0              </td><td>admin.    </td><td>married  </td><td>secondary  </td><td>no       </td><td>45.0              </td><td>no       </td><td>no    </td><td>unknown  </td><td>5.0               </td><td>may    </td><td>1467.0            </td><td>1.0              </td><td>-1.0              </td><td>0.0               </td><td>unknown   </td><td>1        </td></tr>\n",
       "<tr><td>2      </td><td>41.0              </td><td>technician</td><td>married  </td><td>secondary  </td><td>no       </td><td>1270.0            </td><td>yes      </td><td>no    </td><td>unknown  </td><td>5.0               </td><td>may    </td><td>1389.0            </td><td>1.0              </td><td>-1.0              </td><td>0.0               </td><td>unknown   </td><td>1        </td></tr>\n",
       "<tr><td>3      </td><td>55.0              </td><td>services  </td><td>married  </td><td>secondary  </td><td>no       </td><td>2476.0            </td><td>yes      </td><td>no    </td><td>unknown  </td><td>5.0               </td><td>may    </td><td>579.0             </td><td>1.0              </td><td>-1.0              </td><td>0.0               </td><td>unknown   </td><td>1        </td></tr>\n",
       "<tr><td>4      </td><td>54.0              </td><td>admin.    </td><td>married  </td><td>tertiary   </td><td>no       </td><td>184.0             </td><td>no       </td><td>no    </td><td>unknown  </td><td>5.0               </td><td>may    </td><td>673.0             </td><td>2.0              </td><td>-1.0              </td><td>0.0               </td><td>unknown   </td><td>1        </td></tr>\n",
       "<tr><td>5      </td><td>42.0              </td><td>management</td><td>single   </td><td>tertiary   </td><td>no       </td><td>0.0               </td><td>yes      </td><td>yes   </td><td>unknown  </td><td>5.0               </td><td>may    </td><td>562.0             </td><td>2.0              </td><td>-1.0              </td><td>0.0               </td><td>unknown   </td><td>1        </td></tr>\n",
       "<tr><td>6      </td><td>56.0              </td><td>management</td><td>married  </td><td>tertiary   </td><td>no       </td><td>830.0             </td><td>yes      </td><td>yes   </td><td>unknown  </td><td>6.0               </td><td>may    </td><td>1201.0            </td><td>1.0              </td><td>-1.0              </td><td>0.0               </td><td>unknown   </td><td>1        </td></tr>\n",
       "<tr><td>7      </td><td>60.0              </td><td>retired   </td><td>divorced </td><td>secondary  </td><td>no       </td><td>545.0             </td><td>yes      </td><td>no    </td><td>unknown  </td><td>6.0               </td><td>may    </td><td>1030.0            </td><td>1.0              </td><td>-1.0              </td><td>0.0               </td><td>unknown   </td><td>1        </td></tr>\n",
       "<tr><td>8      </td><td>37.0              </td><td>technician</td><td>married  </td><td>secondary  </td><td>no       </td><td>1.0               </td><td>yes      </td><td>no    </td><td>unknown  </td><td>6.0               </td><td>may    </td><td>608.0             </td><td>1.0              </td><td>-1.0              </td><td>0.0               </td><td>unknown   </td><td>1        </td></tr>\n",
       "<tr><td>9      </td><td>28.0              </td><td>services  </td><td>single   </td><td>secondary  </td><td>no       </td><td>5090.0            </td><td>yes      </td><td>no    </td><td>unknown  </td><td>6.0               </td><td>may    </td><td>1297.0            </td><td>3.0              </td><td>-1.0              </td><td>0.0               </td><td>unknown   </td><td>1        </td></tr>\n",
       "</tbody>\n",
       "</table>"
      ]
     },
     "metadata": {},
     "output_type": "display_data"
    }
   ],
   "source": [
    "raw_dataset.describe()"
   ]
  },
  {
   "cell_type": "code",
   "execution_count": 9,
   "metadata": {},
   "outputs": [],
   "source": [
    "splits = raw_dataset.split_frame(ratios=[0.8],seed=1)\n",
    "train = splits[0]\n",
    "test = splits[1]\n"
   ]
  },
  {
   "cell_type": "code",
   "execution_count": 10,
   "metadata": {},
   "outputs": [
    {
     "data": {
      "text/html": [
       "<table>\n",
       "<thead>\n",
       "<tr><th style=\"text-align: right;\">  age</th><th>job        </th><th>marital  </th><th>education  </th><th>default  </th><th style=\"text-align: right;\">  balance</th><th>housing  </th><th>loan  </th><th>contact  </th><th style=\"text-align: right;\">  day</th><th>month  </th><th style=\"text-align: right;\">  duration</th><th style=\"text-align: right;\">  campaign</th><th style=\"text-align: right;\">  pdays</th><th style=\"text-align: right;\">  previous</th><th>poutcome  </th><th style=\"text-align: right;\">  deposit</th></tr>\n",
       "</thead>\n",
       "<tbody>\n",
       "<tr><td style=\"text-align: right;\">   59</td><td>admin.     </td><td>married  </td><td>secondary  </td><td>no       </td><td style=\"text-align: right;\">     2343</td><td>yes      </td><td>no    </td><td>unknown  </td><td style=\"text-align: right;\">    5</td><td>may    </td><td style=\"text-align: right;\">      1042</td><td style=\"text-align: right;\">         1</td><td style=\"text-align: right;\">     -1</td><td style=\"text-align: right;\">         0</td><td>unknown   </td><td style=\"text-align: right;\">        1</td></tr>\n",
       "<tr><td style=\"text-align: right;\">   56</td><td>admin.     </td><td>married  </td><td>secondary  </td><td>no       </td><td style=\"text-align: right;\">       45</td><td>no       </td><td>no    </td><td>unknown  </td><td style=\"text-align: right;\">    5</td><td>may    </td><td style=\"text-align: right;\">      1467</td><td style=\"text-align: right;\">         1</td><td style=\"text-align: right;\">     -1</td><td style=\"text-align: right;\">         0</td><td>unknown   </td><td style=\"text-align: right;\">        1</td></tr>\n",
       "<tr><td style=\"text-align: right;\">   55</td><td>services   </td><td>married  </td><td>secondary  </td><td>no       </td><td style=\"text-align: right;\">     2476</td><td>yes      </td><td>no    </td><td>unknown  </td><td style=\"text-align: right;\">    5</td><td>may    </td><td style=\"text-align: right;\">       579</td><td style=\"text-align: right;\">         1</td><td style=\"text-align: right;\">     -1</td><td style=\"text-align: right;\">         0</td><td>unknown   </td><td style=\"text-align: right;\">        1</td></tr>\n",
       "<tr><td style=\"text-align: right;\">   54</td><td>admin.     </td><td>married  </td><td>tertiary   </td><td>no       </td><td style=\"text-align: right;\">      184</td><td>no       </td><td>no    </td><td>unknown  </td><td style=\"text-align: right;\">    5</td><td>may    </td><td style=\"text-align: right;\">       673</td><td style=\"text-align: right;\">         2</td><td style=\"text-align: right;\">     -1</td><td style=\"text-align: right;\">         0</td><td>unknown   </td><td style=\"text-align: right;\">        1</td></tr>\n",
       "<tr><td style=\"text-align: right;\">   42</td><td>management </td><td>single   </td><td>tertiary   </td><td>no       </td><td style=\"text-align: right;\">        0</td><td>yes      </td><td>yes   </td><td>unknown  </td><td style=\"text-align: right;\">    5</td><td>may    </td><td style=\"text-align: right;\">       562</td><td style=\"text-align: right;\">         2</td><td style=\"text-align: right;\">     -1</td><td style=\"text-align: right;\">         0</td><td>unknown   </td><td style=\"text-align: right;\">        1</td></tr>\n",
       "<tr><td style=\"text-align: right;\">   56</td><td>management </td><td>married  </td><td>tertiary   </td><td>no       </td><td style=\"text-align: right;\">      830</td><td>yes      </td><td>yes   </td><td>unknown  </td><td style=\"text-align: right;\">    6</td><td>may    </td><td style=\"text-align: right;\">      1201</td><td style=\"text-align: right;\">         1</td><td style=\"text-align: right;\">     -1</td><td style=\"text-align: right;\">         0</td><td>unknown   </td><td style=\"text-align: right;\">        1</td></tr>\n",
       "<tr><td style=\"text-align: right;\">   60</td><td>retired    </td><td>divorced </td><td>secondary  </td><td>no       </td><td style=\"text-align: right;\">      545</td><td>yes      </td><td>no    </td><td>unknown  </td><td style=\"text-align: right;\">    6</td><td>may    </td><td style=\"text-align: right;\">      1030</td><td style=\"text-align: right;\">         1</td><td style=\"text-align: right;\">     -1</td><td style=\"text-align: right;\">         0</td><td>unknown   </td><td style=\"text-align: right;\">        1</td></tr>\n",
       "<tr><td style=\"text-align: right;\">   37</td><td>technician </td><td>married  </td><td>secondary  </td><td>no       </td><td style=\"text-align: right;\">        1</td><td>yes      </td><td>no    </td><td>unknown  </td><td style=\"text-align: right;\">    6</td><td>may    </td><td style=\"text-align: right;\">       608</td><td style=\"text-align: right;\">         1</td><td style=\"text-align: right;\">     -1</td><td style=\"text-align: right;\">         0</td><td>unknown   </td><td style=\"text-align: right;\">        1</td></tr>\n",
       "<tr><td style=\"text-align: right;\">   38</td><td>admin.     </td><td>single   </td><td>secondary  </td><td>no       </td><td style=\"text-align: right;\">      100</td><td>yes      </td><td>no    </td><td>unknown  </td><td style=\"text-align: right;\">    7</td><td>may    </td><td style=\"text-align: right;\">       786</td><td style=\"text-align: right;\">         1</td><td style=\"text-align: right;\">     -1</td><td style=\"text-align: right;\">         0</td><td>unknown   </td><td style=\"text-align: right;\">        1</td></tr>\n",
       "<tr><td style=\"text-align: right;\">   30</td><td>blue-collar</td><td>married  </td><td>secondary  </td><td>no       </td><td style=\"text-align: right;\">      309</td><td>yes      </td><td>no    </td><td>unknown  </td><td style=\"text-align: right;\">    7</td><td>may    </td><td style=\"text-align: right;\">      1574</td><td style=\"text-align: right;\">         2</td><td style=\"text-align: right;\">     -1</td><td style=\"text-align: right;\">         0</td><td>unknown   </td><td style=\"text-align: right;\">        1</td></tr>\n",
       "</tbody>\n",
       "</table>"
      ]
     },
     "metadata": {},
     "output_type": "display_data"
    },
    {
     "data": {
      "text/plain": []
     },
     "execution_count": 10,
     "metadata": {},
     "output_type": "execute_result"
    }
   ],
   "source": [
    "splits[0]"
   ]
  },
  {
   "cell_type": "code",
   "execution_count": 11,
   "metadata": {},
   "outputs": [],
   "source": [
    "y = \"deposit\"\n",
    "x  = ['age','job','marital','education','default','balance','housing','loan','contact','day','month','duration','campaign','pdays','previous','poutcome']"
   ]
  },
  {
   "cell_type": "code",
   "execution_count": 12,
   "metadata": {},
   "outputs": [
    {
     "name": "stdout",
     "output_type": "stream",
     "text": [
      "AutoML progress: |\n",
      "14:03:07.178: AutoML: XGBoost is not available; skipping it.\n",
      "\n",
      "████████████████████████████████████████████████████████| 100%\n"
     ]
    }
   ],
   "source": [
    "aml = H2OAutoML(max_models = 25, max_runtime_secs=300, seed = 1)\n",
    "aml.train(x = x, y = y, training_frame = train)"
   ]
  },
  {
   "cell_type": "code",
   "execution_count": 13,
   "metadata": {},
   "outputs": [
    {
     "data": {
      "text/html": [
       "<table>\n",
       "<thead>\n",
       "<tr><th>model_id                                           </th><th style=\"text-align: right;\">     auc</th><th style=\"text-align: right;\">  logloss</th><th style=\"text-align: right;\">   aucpr</th><th style=\"text-align: right;\">  mean_per_class_error</th><th style=\"text-align: right;\">    rmse</th><th style=\"text-align: right;\">     mse</th></tr>\n",
       "</thead>\n",
       "<tbody>\n",
       "<tr><td>StackedEnsemble_AllModels_AutoML_20200214_140307   </td><td style=\"text-align: right;\">0.927899</td><td style=\"text-align: right;\"> 0.33529 </td><td style=\"text-align: right;\">0.89438 </td><td style=\"text-align: right;\">              0.131122</td><td style=\"text-align: right;\">0.31992 </td><td style=\"text-align: right;\">0.102349</td></tr>\n",
       "<tr><td>StackedEnsemble_BestOfFamily_AutoML_20200214_140307</td><td style=\"text-align: right;\">0.927427</td><td style=\"text-align: right;\"> 0.335383</td><td style=\"text-align: right;\">0.892893</td><td style=\"text-align: right;\">              0.132205</td><td style=\"text-align: right;\">0.320122</td><td style=\"text-align: right;\">0.102478</td></tr>\n",
       "<tr><td>GBM_5_AutoML_20200214_140307                       </td><td style=\"text-align: right;\">0.927411</td><td style=\"text-align: right;\"> 0.330163</td><td style=\"text-align: right;\">0.891286</td><td style=\"text-align: right;\">              0.133382</td><td style=\"text-align: right;\">0.318312</td><td style=\"text-align: right;\">0.101323</td></tr>\n",
       "<tr><td>GBM_3_AutoML_20200214_140307                       </td><td style=\"text-align: right;\">0.926513</td><td style=\"text-align: right;\"> 0.333499</td><td style=\"text-align: right;\">0.89158 </td><td style=\"text-align: right;\">              0.132204</td><td style=\"text-align: right;\">0.319784</td><td style=\"text-align: right;\">0.102262</td></tr>\n",
       "<tr><td>GBM_1_AutoML_20200214_140307                       </td><td style=\"text-align: right;\">0.925984</td><td style=\"text-align: right;\"> 0.334558</td><td style=\"text-align: right;\">0.890969</td><td style=\"text-align: right;\">              0.134676</td><td style=\"text-align: right;\">0.320617</td><td style=\"text-align: right;\">0.102795</td></tr>\n",
       "<tr><td>GBM_2_AutoML_20200214_140307                       </td><td style=\"text-align: right;\">0.925285</td><td style=\"text-align: right;\"> 0.335635</td><td style=\"text-align: right;\">0.886999</td><td style=\"text-align: right;\">              0.133757</td><td style=\"text-align: right;\">0.320596</td><td style=\"text-align: right;\">0.102782</td></tr>\n",
       "<tr><td>GBM_4_AutoML_20200214_140307                       </td><td style=\"text-align: right;\">0.92415 </td><td style=\"text-align: right;\"> 0.340764</td><td style=\"text-align: right;\">0.887306</td><td style=\"text-align: right;\">              0.137503</td><td style=\"text-align: right;\">0.323473</td><td style=\"text-align: right;\">0.104635</td></tr>\n",
       "<tr><td>GBM_grid__1_AutoML_20200214_140307_model_8         </td><td style=\"text-align: right;\">0.92258 </td><td style=\"text-align: right;\"> 0.355628</td><td style=\"text-align: right;\">0.889748</td><td style=\"text-align: right;\">              0.144343</td><td style=\"text-align: right;\">0.329676</td><td style=\"text-align: right;\">0.108686</td></tr>\n",
       "<tr><td>GBM_grid__1_AutoML_20200214_140307_model_2         </td><td style=\"text-align: right;\">0.922399</td><td style=\"text-align: right;\"> 0.346638</td><td style=\"text-align: right;\">0.886594</td><td style=\"text-align: right;\">              0.14125 </td><td style=\"text-align: right;\">0.327263</td><td style=\"text-align: right;\">0.107101</td></tr>\n",
       "<tr><td>DRF_1_AutoML_20200214_140307                       </td><td style=\"text-align: right;\">0.920628</td><td style=\"text-align: right;\"> 0.377086</td><td style=\"text-align: right;\">0.862076</td><td style=\"text-align: right;\">              0.137708</td><td style=\"text-align: right;\">0.327226</td><td style=\"text-align: right;\">0.107077</td></tr>\n",
       "<tr><td>XRT_1_AutoML_20200214_140307                       </td><td style=\"text-align: right;\">0.915621</td><td style=\"text-align: right;\"> 0.383096</td><td style=\"text-align: right;\">0.871432</td><td style=\"text-align: right;\">              0.145079</td><td style=\"text-align: right;\">0.339866</td><td style=\"text-align: right;\">0.115509</td></tr>\n",
       "<tr><td>GBM_grid__1_AutoML_20200214_140307_model_6         </td><td style=\"text-align: right;\">0.915238</td><td style=\"text-align: right;\"> 0.370098</td><td style=\"text-align: right;\">0.873535</td><td style=\"text-align: right;\">              0.152041</td><td style=\"text-align: right;\">0.338878</td><td style=\"text-align: right;\">0.114838</td></tr>\n",
       "<tr><td>GBM_grid__1_AutoML_20200214_140307_model_4         </td><td style=\"text-align: right;\">0.906641</td><td style=\"text-align: right;\"> 0.555322</td><td style=\"text-align: right;\">0.740131</td><td style=\"text-align: right;\">              0.159246</td><td style=\"text-align: right;\">0.364707</td><td style=\"text-align: right;\">0.133011</td></tr>\n",
       "<tr><td>GBM_grid__1_AutoML_20200214_140307_model_7         </td><td style=\"text-align: right;\">0.906409</td><td style=\"text-align: right;\"> 0.462973</td><td style=\"text-align: right;\">0.874906</td><td style=\"text-align: right;\">              0.165452</td><td style=\"text-align: right;\">0.379321</td><td style=\"text-align: right;\">0.143885</td></tr>\n",
       "<tr><td>GBM_grid__1_AutoML_20200214_140307_model_3         </td><td style=\"text-align: right;\">0.904063</td><td style=\"text-align: right;\"> 0.682844</td><td style=\"text-align: right;\">0.871947</td><td style=\"text-align: right;\">              0.167935</td><td style=\"text-align: right;\">0.494835</td><td style=\"text-align: right;\">0.244861</td></tr>\n",
       "<tr><td>GBM_grid__1_AutoML_20200214_140307_model_1         </td><td style=\"text-align: right;\">0.903942</td><td style=\"text-align: right;\"> 0.483988</td><td style=\"text-align: right;\">0.840666</td><td style=\"text-align: right;\">              0.154907</td><td style=\"text-align: right;\">0.351929</td><td style=\"text-align: right;\">0.123854</td></tr>\n",
       "<tr><td>GLM_1_AutoML_20200214_140307                       </td><td style=\"text-align: right;\">0.903129</td><td style=\"text-align: right;\"> 0.411355</td><td style=\"text-align: right;\">0.848981</td><td style=\"text-align: right;\">              0.167931</td><td style=\"text-align: right;\">0.354879</td><td style=\"text-align: right;\">0.125939</td></tr>\n",
       "<tr><td>GBM_grid__1_AutoML_20200214_140307_model_5         </td><td style=\"text-align: right;\">0.898167</td><td style=\"text-align: right;\"> 0.684475</td><td style=\"text-align: right;\">0.864256</td><td style=\"text-align: right;\">              0.171582</td><td style=\"text-align: right;\">0.495655</td><td style=\"text-align: right;\">0.245674</td></tr>\n",
       "<tr><td>DeepLearning_grid__1_AutoML_20200214_140307_model_3</td><td style=\"text-align: right;\">0.673442</td><td style=\"text-align: right;\"> 6.98464 </td><td style=\"text-align: right;\">0.082755</td><td style=\"text-align: right;\">              0.329091</td><td style=\"text-align: right;\">0.720043</td><td style=\"text-align: right;\">0.518462</td></tr>\n",
       "<tr><td>DeepLearning_1_AutoML_20200214_140307              </td><td style=\"text-align: right;\">0.639946</td><td style=\"text-align: right;\"> 2.00716 </td><td style=\"text-align: right;\">0.476426</td><td style=\"text-align: right;\">              0.415366</td><td style=\"text-align: right;\">0.640321</td><td style=\"text-align: right;\">0.410012</td></tr>\n",
       "<tr><td>DeepLearning_grid__1_AutoML_20200214_140307_model_2</td><td style=\"text-align: right;\">0.628424</td><td style=\"text-align: right;\"> 3.53319 </td><td style=\"text-align: right;\">0.331835</td><td style=\"text-align: right;\">              0.364544</td><td style=\"text-align: right;\">0.641091</td><td style=\"text-align: right;\">0.410997</td></tr>\n",
       "<tr><td>DeepLearning_grid__2_AutoML_20200214_140307_model_1</td><td style=\"text-align: right;\">0.563177</td><td style=\"text-align: right;\"> 9.94795 </td><td style=\"text-align: right;\">0.311933</td><td style=\"text-align: right;\">              0.5     </td><td style=\"text-align: right;\">0.703346</td><td style=\"text-align: right;\">0.494696</td></tr>\n",
       "<tr><td>DeepLearning_grid__1_AutoML_20200214_140307_model_1</td><td style=\"text-align: right;\">0.548405</td><td style=\"text-align: right;\"> 6.66355 </td><td style=\"text-align: right;\">0.258227</td><td style=\"text-align: right;\">              0.5     </td><td style=\"text-align: right;\">0.698921</td><td style=\"text-align: right;\">0.488491</td></tr>\n",
       "</tbody>\n",
       "</table>"
      ]
     },
     "metadata": {},
     "output_type": "display_data"
    },
    {
     "data": {
      "text/plain": []
     },
     "execution_count": 13,
     "metadata": {},
     "output_type": "execute_result"
    }
   ],
   "source": [
    "lb = aml.leaderboard\n",
    "lb.head()\n",
    "lb.head(rows=lb.nrows) # Entire leaderboard"
   ]
  },
  {
   "cell_type": "code",
   "execution_count": 14,
   "metadata": {},
   "outputs": [
    {
     "name": "stdout",
     "output_type": "stream",
     "text": [
      "stackedensemble prediction progress: |████████████████████████████████████| 100%\n"
     ]
    },
    {
     "data": {
      "text/html": [
       "<table>\n",
       "<thead>\n",
       "<tr><th style=\"text-align: right;\">  predict</th><th style=\"text-align: right;\">       p0</th><th style=\"text-align: right;\">       p1</th></tr>\n",
       "</thead>\n",
       "<tbody>\n",
       "<tr><td style=\"text-align: right;\">        1</td><td style=\"text-align: right;\">0.141787 </td><td style=\"text-align: right;\">0.858213 </td></tr>\n",
       "<tr><td style=\"text-align: right;\">        1</td><td style=\"text-align: right;\">0.196454 </td><td style=\"text-align: right;\">0.803546 </td></tr>\n",
       "<tr><td style=\"text-align: right;\">        0</td><td style=\"text-align: right;\">0.876268 </td><td style=\"text-align: right;\">0.123732 </td></tr>\n",
       "<tr><td style=\"text-align: right;\">        1</td><td style=\"text-align: right;\">0.122358 </td><td style=\"text-align: right;\">0.877642 </td></tr>\n",
       "<tr><td style=\"text-align: right;\">        0</td><td style=\"text-align: right;\">0.928681 </td><td style=\"text-align: right;\">0.0713189</td></tr>\n",
       "<tr><td style=\"text-align: right;\">        1</td><td style=\"text-align: right;\">0.0923758</td><td style=\"text-align: right;\">0.907624 </td></tr>\n",
       "<tr><td style=\"text-align: right;\">        1</td><td style=\"text-align: right;\">0.286828 </td><td style=\"text-align: right;\">0.713172 </td></tr>\n",
       "<tr><td style=\"text-align: right;\">        1</td><td style=\"text-align: right;\">0.188755 </td><td style=\"text-align: right;\">0.811245 </td></tr>\n",
       "<tr><td style=\"text-align: right;\">        1</td><td style=\"text-align: right;\">0.528146 </td><td style=\"text-align: right;\">0.471854 </td></tr>\n",
       "<tr><td style=\"text-align: right;\">        1</td><td style=\"text-align: right;\">0.0870629</td><td style=\"text-align: right;\">0.912937 </td></tr>\n",
       "</tbody>\n",
       "</table>"
      ]
     },
     "metadata": {},
     "output_type": "display_data"
    },
    {
     "data": {
      "text/plain": []
     },
     "execution_count": 14,
     "metadata": {},
     "output_type": "execute_result"
    }
   ],
   "source": [
    "preds = aml.predict(test)\n",
    "preds"
   ]
  },
  {
   "cell_type": "code",
   "execution_count": 15,
   "metadata": {},
   "outputs": [],
   "source": [
    "# Get model ids for all models in the AutoML Leaderboard\n",
    "model_ids = list(aml.leaderboard['model_id'].as_data_frame().iloc[:,0])\n",
    "# Get the \"All Models\" Stacked Ensemble model\n",
    "se = h2o.get_model([mid for mid in model_ids if \"StackedEnsemble_AllModels\" in mid][0])\n",
    "# Get the Stacked Ensemble metalearner model\n",
    "metalearner = h2o.get_model(se.metalearner()['name'])"
   ]
  },
  {
   "cell_type": "code",
   "execution_count": 16,
   "metadata": {},
   "outputs": [
    {
     "data": {
      "text/plain": [
       "{'Intercept': -0.32241276786905404,\n",
       " 'GBM_5_AutoML_20200214_140307': 0.8335929245499633,\n",
       " 'GBM_3_AutoML_20200214_140307': 0.33542864089943625,\n",
       " 'GBM_1_AutoML_20200214_140307': 0.30381287113397754,\n",
       " 'GBM_2_AutoML_20200214_140307': 0.13203629119091118,\n",
       " 'GBM_4_AutoML_20200214_140307': 0.0,\n",
       " 'GBM_grid__1_AutoML_20200214_140307_model_8': 0.0,\n",
       " 'GBM_grid__1_AutoML_20200214_140307_model_2': 0.0,\n",
       " 'DRF_1_AutoML_20200214_140307': 0.3247121234647919,\n",
       " 'XRT_1_AutoML_20200214_140307': 0.31291066587815664,\n",
       " 'GBM_grid__1_AutoML_20200214_140307_model_6': 0.0,\n",
       " 'GBM_grid__1_AutoML_20200214_140307_model_4': 0.017604162436699634,\n",
       " 'GBM_grid__1_AutoML_20200214_140307_model_7': 0.0,\n",
       " 'GBM_grid__1_AutoML_20200214_140307_model_3': 0.0,\n",
       " 'GBM_grid__1_AutoML_20200214_140307_model_1': 0.13229895789652854,\n",
       " 'GLM_1_AutoML_20200214_140307': 0.0,\n",
       " 'GBM_grid__1_AutoML_20200214_140307_model_5': 0.0,\n",
       " 'DeepLearning_grid__1_AutoML_20200214_140307_model_3': 0.0056610058501196945,\n",
       " 'DeepLearning_1_AutoML_20200214_140307': 0.0,\n",
       " 'DeepLearning_grid__1_AutoML_20200214_140307_model_2': 0.0,\n",
       " 'DeepLearning_grid__2_AutoML_20200214_140307_model_1': 0.0,\n",
       " 'DeepLearning_grid__1_AutoML_20200214_140307_model_1': 0.0}"
      ]
     },
     "execution_count": 16,
     "metadata": {},
     "output_type": "execute_result"
    }
   ],
   "source": [
    "metalearner.coef_norm()"
   ]
  },
  {
   "cell_type": "code",
   "execution_count": 17,
   "metadata": {},
   "outputs": [
    {
     "data": {
      "image/png": "[encoded data removed]",
      "text/plain": [
       "<Figure size 1008x720 with 1 Axes>"
      ]
     },
     "metadata": {
      "needs_background": "light"
     },
     "output_type": "display_data"
    }
   ],
   "source": [
    "%matplotlib inline\n",
    "metalearner.std_coef_plot()"
   ]
  },
  {
   "cell_type": "code",
   "execution_count": 18,
   "metadata": {},
   "outputs": [
    {
     "data": {
      "text/plain": [
       "'C:\\\\Users\\\\Sherry\\\\Desktop\\\\AutoMl\\\\StackedEnsemble_AllModels_AutoML_20200214_140307'"
      ]
     },
     "execution_count": 18,
     "metadata": {},
     "output_type": "execute_result"
    }
   ],
   "source": [
    "h2o.save_model(aml.leader, path = \"C:\\\\Users\\\\Sherry\\\\Desktop\\\\AutoMl\")"
   ]
  },
  {
   "cell_type": "code",
   "execution_count": 19,
   "metadata": {},
   "outputs": [
    {
     "data": {
      "text/plain": [
       "'C:\\\\Users\\\\Sherry\\\\Desktop\\\\AutoMl\\\\StackedEnsemble_AllModels_AutoML_20200214_140307.zip'"
      ]
     },
     "execution_count": 19,
     "metadata": {},
     "output_type": "execute_result"
    }
   ],
   "source": [
    "aml.leader.download_mojo(path = \"C:\\\\Users\\\\Sherry\\\\Desktop\\\\AutoMl\")"
   ]
  },
  {
   "cell_type": "code",
   "execution_count": 20,
   "metadata": {},
   "outputs": [
    {
     "name": "stdout",
     "output_type": "stream",
     "text": [
      "\n",
      "ModelMetricsBinomialGLM: stackedensemble\n",
      "** Reported on test data. **\n",
      "\n",
      "MSE: 0.10007260747441912\n",
      "RMSE: 0.31634254768275977\n",
      "LogLoss: 0.32695656128314315\n",
      "Null degrees of freedom: 2196\n",
      "Residual degrees of freedom: 2187\n",
      "Null deviance: 3039.0471678396407\n",
      "Residual deviance: 1436.6471302781313\n",
      "AIC: 1456.6471302781313\n",
      "AUC: 0.9327583741880999\n",
      "AUCPR: 0.8998959458471526\n",
      "Gini: 0.8655167483761999\n",
      "\n",
      "Confusion Matrix (Act/Pred) for max f1 @ threshold = 0.3468797363663131: \n"
     ]
    },
    {
     "data": {
      "text/html": [
       "<div>\n",
       "<style scoped>\n",
       "    .dataframe tbody tr th:only-of-type {\n",
       "        vertical-align: middle;\n",
       "    }\n",
       "\n",
       "    .dataframe tbody tr th {\n",
       "        vertical-align: top;\n",
       "    }\n",
       "\n",
       "    .dataframe thead th {\n",
       "        text-align: right;\n",
       "    }\n",
       "</style>\n",
       "<table border=\"1\" class=\"dataframe\">\n",
       "  <thead>\n",
       "    <tr style=\"text-align: right;\">\n",
       "      <th></th>\n",
       "      <th></th>\n",
       "      <th>0</th>\n",
       "      <th>1</th>\n",
       "      <th>Error</th>\n",
       "      <th>Rate</th>\n",
       "    </tr>\n",
       "  </thead>\n",
       "  <tbody>\n",
       "    <tr>\n",
       "      <td>0</td>\n",
       "      <td>0</td>\n",
       "      <td>945.0</td>\n",
       "      <td>214.0</td>\n",
       "      <td>0.1846</td>\n",
       "      <td>(214.0/1159.0)</td>\n",
       "    </tr>\n",
       "    <tr>\n",
       "      <td>1</td>\n",
       "      <td>1</td>\n",
       "      <td>74.0</td>\n",
       "      <td>964.0</td>\n",
       "      <td>0.0713</td>\n",
       "      <td>(74.0/1038.0)</td>\n",
       "    </tr>\n",
       "    <tr>\n",
       "      <td>2</td>\n",
       "      <td>Total</td>\n",
       "      <td>1019.0</td>\n",
       "      <td>1178.0</td>\n",
       "      <td>0.1311</td>\n",
       "      <td>(288.0/2197.0)</td>\n",
       "    </tr>\n",
       "  </tbody>\n",
       "</table>\n",
       "</div>"
      ],
      "text/plain": [
       "               0       1   Error             Rate\n",
       "0      0   945.0   214.0  0.1846   (214.0/1159.0)\n",
       "1      1    74.0   964.0  0.0713    (74.0/1038.0)\n",
       "2  Total  1019.0  1178.0  0.1311   (288.0/2197.0)"
      ]
     },
     "metadata": {},
     "output_type": "display_data"
    },
    {
     "name": "stdout",
     "output_type": "stream",
     "text": [
      "\n",
      "Maximum Metrics: Maximum metrics at their respective thresholds\n"
     ]
    },
    {
     "data": {
      "text/html": [
       "<div>\n",
       "<style scoped>\n",
       "    .dataframe tbody tr th:only-of-type {\n",
       "        vertical-align: middle;\n",
       "    }\n",
       "\n",
       "    .dataframe tbody tr th {\n",
       "        vertical-align: top;\n",
       "    }\n",
       "\n",
       "    .dataframe thead th {\n",
       "        text-align: right;\n",
       "    }\n",
       "</style>\n",
       "<table border=\"1\" class=\"dataframe\">\n",
       "  <thead>\n",
       "    <tr style=\"text-align: right;\">\n",
       "      <th></th>\n",
       "      <th>metric</th>\n",
       "      <th>threshold</th>\n",
       "      <th>value</th>\n",
       "      <th>idx</th>\n",
       "    </tr>\n",
       "  </thead>\n",
       "  <tbody>\n",
       "    <tr>\n",
       "      <td>0</td>\n",
       "      <td>max f1</td>\n",
       "      <td>0.346880</td>\n",
       "      <td>0.870036</td>\n",
       "      <td>249.0</td>\n",
       "    </tr>\n",
       "    <tr>\n",
       "      <td>1</td>\n",
       "      <td>max f2</td>\n",
       "      <td>0.121323</td>\n",
       "      <td>0.922057</td>\n",
       "      <td>326.0</td>\n",
       "    </tr>\n",
       "    <tr>\n",
       "      <td>2</td>\n",
       "      <td>max f0point5</td>\n",
       "      <td>0.634387</td>\n",
       "      <td>0.853849</td>\n",
       "      <td>170.0</td>\n",
       "    </tr>\n",
       "    <tr>\n",
       "      <td>3</td>\n",
       "      <td>max accuracy</td>\n",
       "      <td>0.346880</td>\n",
       "      <td>0.868912</td>\n",
       "      <td>249.0</td>\n",
       "    </tr>\n",
       "    <tr>\n",
       "      <td>4</td>\n",
       "      <td>max precision</td>\n",
       "      <td>0.948004</td>\n",
       "      <td>1.000000</td>\n",
       "      <td>0.0</td>\n",
       "    </tr>\n",
       "    <tr>\n",
       "      <td>5</td>\n",
       "      <td>max recall</td>\n",
       "      <td>0.054121</td>\n",
       "      <td>1.000000</td>\n",
       "      <td>367.0</td>\n",
       "    </tr>\n",
       "    <tr>\n",
       "      <td>6</td>\n",
       "      <td>max specificity</td>\n",
       "      <td>0.948004</td>\n",
       "      <td>1.000000</td>\n",
       "      <td>0.0</td>\n",
       "    </tr>\n",
       "    <tr>\n",
       "      <td>7</td>\n",
       "      <td>max absolute_mcc</td>\n",
       "      <td>0.346880</td>\n",
       "      <td>0.744891</td>\n",
       "      <td>249.0</td>\n",
       "    </tr>\n",
       "    <tr>\n",
       "      <td>8</td>\n",
       "      <td>max min_per_class_accuracy</td>\n",
       "      <td>0.589256</td>\n",
       "      <td>0.860224</td>\n",
       "      <td>184.0</td>\n",
       "    </tr>\n",
       "    <tr>\n",
       "      <td>9</td>\n",
       "      <td>max mean_per_class_accuracy</td>\n",
       "      <td>0.346880</td>\n",
       "      <td>0.872034</td>\n",
       "      <td>249.0</td>\n",
       "    </tr>\n",
       "    <tr>\n",
       "      <td>10</td>\n",
       "      <td>max tns</td>\n",
       "      <td>0.948004</td>\n",
       "      <td>1159.000000</td>\n",
       "      <td>0.0</td>\n",
       "    </tr>\n",
       "    <tr>\n",
       "      <td>11</td>\n",
       "      <td>max fns</td>\n",
       "      <td>0.948004</td>\n",
       "      <td>1033.000000</td>\n",
       "      <td>0.0</td>\n",
       "    </tr>\n",
       "    <tr>\n",
       "      <td>12</td>\n",
       "      <td>max fps</td>\n",
       "      <td>0.031594</td>\n",
       "      <td>1159.000000</td>\n",
       "      <td>399.0</td>\n",
       "    </tr>\n",
       "    <tr>\n",
       "      <td>13</td>\n",
       "      <td>max tps</td>\n",
       "      <td>0.054121</td>\n",
       "      <td>1038.000000</td>\n",
       "      <td>367.0</td>\n",
       "    </tr>\n",
       "    <tr>\n",
       "      <td>14</td>\n",
       "      <td>max tnr</td>\n",
       "      <td>0.948004</td>\n",
       "      <td>1.000000</td>\n",
       "      <td>0.0</td>\n",
       "    </tr>\n",
       "    <tr>\n",
       "      <td>15</td>\n",
       "      <td>max fnr</td>\n",
       "      <td>0.948004</td>\n",
       "      <td>0.995183</td>\n",
       "      <td>0.0</td>\n",
       "    </tr>\n",
       "    <tr>\n",
       "      <td>16</td>\n",
       "      <td>max fpr</td>\n",
       "      <td>0.031594</td>\n",
       "      <td>1.000000</td>\n",
       "      <td>399.0</td>\n",
       "    </tr>\n",
       "    <tr>\n",
       "      <td>17</td>\n",
       "      <td>max tpr</td>\n",
       "      <td>0.054121</td>\n",
       "      <td>1.000000</td>\n",
       "      <td>367.0</td>\n",
       "    </tr>\n",
       "  </tbody>\n",
       "</table>\n",
       "</div>"
      ],
      "text/plain": [
       "                         metric  threshold        value    idx\n",
       "0                        max f1   0.346880     0.870036  249.0\n",
       "1                        max f2   0.121323     0.922057  326.0\n",
       "2                  max f0point5   0.634387     0.853849  170.0\n",
       "3                  max accuracy   0.346880     0.868912  249.0\n",
       "4                 max precision   0.948004     1.000000    0.0\n",
       "5                    max recall   0.054121     1.000000  367.0\n",
       "6               max specificity   0.948004     1.000000    0.0\n",
       "7              max absolute_mcc   0.346880     0.744891  249.0\n",
       "8    max min_per_class_accuracy   0.589256     0.860224  184.0\n",
       "9   max mean_per_class_accuracy   0.346880     0.872034  249.0\n",
       "10                      max tns   0.948004  1159.000000    0.0\n",
       "11                      max fns   0.948004  1033.000000    0.0\n",
       "12                      max fps   0.031594  1159.000000  399.0\n",
       "13                      max tps   0.054121  1038.000000  367.0\n",
       "14                      max tnr   0.948004     1.000000    0.0\n",
       "15                      max fnr   0.948004     0.995183    0.0\n",
       "16                      max fpr   0.031594     1.000000  399.0\n",
       "17                      max tpr   0.054121     1.000000  367.0"
      ]
     },
     "metadata": {},
     "output_type": "display_data"
    },
    {
     "name": "stdout",
     "output_type": "stream",
     "text": [
      "\n",
      "Gains/Lift Table: Avg response rate: 47.25 %, avg score: 47.60 %\n"
     ]
    },
    {
     "data": {
      "text/html": [
       "<div>\n",
       "<style scoped>\n",
       "    .dataframe tbody tr th:only-of-type {\n",
       "        vertical-align: middle;\n",
       "    }\n",
       "\n",
       "    .dataframe tbody tr th {\n",
       "        vertical-align: top;\n",
       "    }\n",
       "\n",
       "    .dataframe thead th {\n",
       "        text-align: right;\n",
       "    }\n",
       "</style>\n",
       "<table border=\"1\" class=\"dataframe\">\n",
       "  <thead>\n",
       "    <tr style=\"text-align: right;\">\n",
       "      <th></th>\n",
       "      <th></th>\n",
       "      <th>group</th>\n",
       "      <th>cumulative_data_fraction</th>\n",
       "      <th>lower_threshold</th>\n",
       "      <th>lift</th>\n",
       "      <th>cumulative_lift</th>\n",
       "      <th>response_rate</th>\n",
       "      <th>score</th>\n",
       "      <th>cumulative_response_rate</th>\n",
       "      <th>cumulative_score</th>\n",
       "      <th>capture_rate</th>\n",
       "      <th>cumulative_capture_rate</th>\n",
       "      <th>gain</th>\n",
       "      <th>cumulative_gain</th>\n",
       "    </tr>\n",
       "  </thead>\n",
       "  <tbody>\n",
       "    <tr>\n",
       "      <td>0</td>\n",
       "      <td></td>\n",
       "      <td>1</td>\n",
       "      <td>0.010014</td>\n",
       "      <td>0.942582</td>\n",
       "      <td>2.116570</td>\n",
       "      <td>2.116570</td>\n",
       "      <td>1.000000</td>\n",
       "      <td>0.945579</td>\n",
       "      <td>1.000000</td>\n",
       "      <td>0.945579</td>\n",
       "      <td>0.021195</td>\n",
       "      <td>0.021195</td>\n",
       "      <td>111.657033</td>\n",
       "      <td>111.657033</td>\n",
       "    </tr>\n",
       "    <tr>\n",
       "      <td>1</td>\n",
       "      <td></td>\n",
       "      <td>2</td>\n",
       "      <td>0.020027</td>\n",
       "      <td>0.940139</td>\n",
       "      <td>2.020363</td>\n",
       "      <td>2.068466</td>\n",
       "      <td>0.954545</td>\n",
       "      <td>0.941472</td>\n",
       "      <td>0.977273</td>\n",
       "      <td>0.943525</td>\n",
       "      <td>0.020231</td>\n",
       "      <td>0.041426</td>\n",
       "      <td>102.036259</td>\n",
       "      <td>106.846646</td>\n",
       "    </tr>\n",
       "    <tr>\n",
       "      <td>2</td>\n",
       "      <td></td>\n",
       "      <td>3</td>\n",
       "      <td>0.030041</td>\n",
       "      <td>0.937955</td>\n",
       "      <td>2.020363</td>\n",
       "      <td>2.052432</td>\n",
       "      <td>0.954545</td>\n",
       "      <td>0.938809</td>\n",
       "      <td>0.969697</td>\n",
       "      <td>0.941953</td>\n",
       "      <td>0.020231</td>\n",
       "      <td>0.061657</td>\n",
       "      <td>102.036259</td>\n",
       "      <td>105.243183</td>\n",
       "    </tr>\n",
       "    <tr>\n",
       "      <td>3</td>\n",
       "      <td></td>\n",
       "      <td>4</td>\n",
       "      <td>0.040055</td>\n",
       "      <td>0.936482</td>\n",
       "      <td>2.020363</td>\n",
       "      <td>2.044415</td>\n",
       "      <td>0.954545</td>\n",
       "      <td>0.937219</td>\n",
       "      <td>0.965909</td>\n",
       "      <td>0.940770</td>\n",
       "      <td>0.020231</td>\n",
       "      <td>0.081888</td>\n",
       "      <td>102.036259</td>\n",
       "      <td>104.441452</td>\n",
       "    </tr>\n",
       "    <tr>\n",
       "      <td>4</td>\n",
       "      <td></td>\n",
       "      <td>5</td>\n",
       "      <td>0.050068</td>\n",
       "      <td>0.934407</td>\n",
       "      <td>2.116570</td>\n",
       "      <td>2.058846</td>\n",
       "      <td>1.000000</td>\n",
       "      <td>0.935339</td>\n",
       "      <td>0.972727</td>\n",
       "      <td>0.939684</td>\n",
       "      <td>0.021195</td>\n",
       "      <td>0.103083</td>\n",
       "      <td>111.657033</td>\n",
       "      <td>105.884568</td>\n",
       "    </tr>\n",
       "    <tr>\n",
       "      <td>5</td>\n",
       "      <td></td>\n",
       "      <td>6</td>\n",
       "      <td>0.100137</td>\n",
       "      <td>0.926144</td>\n",
       "      <td>2.001121</td>\n",
       "      <td>2.029983</td>\n",
       "      <td>0.945455</td>\n",
       "      <td>0.930208</td>\n",
       "      <td>0.959091</td>\n",
       "      <td>0.934946</td>\n",
       "      <td>0.100193</td>\n",
       "      <td>0.203276</td>\n",
       "      <td>100.112104</td>\n",
       "      <td>102.998336</td>\n",
       "    </tr>\n",
       "    <tr>\n",
       "      <td>6</td>\n",
       "      <td></td>\n",
       "      <td>7</td>\n",
       "      <td>0.150205</td>\n",
       "      <td>0.916140</td>\n",
       "      <td>1.924155</td>\n",
       "      <td>1.994707</td>\n",
       "      <td>0.909091</td>\n",
       "      <td>0.921775</td>\n",
       "      <td>0.942424</td>\n",
       "      <td>0.930555</td>\n",
       "      <td>0.096339</td>\n",
       "      <td>0.299615</td>\n",
       "      <td>92.415484</td>\n",
       "      <td>99.470719</td>\n",
       "    </tr>\n",
       "    <tr>\n",
       "      <td>7</td>\n",
       "      <td></td>\n",
       "      <td>8</td>\n",
       "      <td>0.200273</td>\n",
       "      <td>0.906633</td>\n",
       "      <td>1.866430</td>\n",
       "      <td>1.962638</td>\n",
       "      <td>0.881818</td>\n",
       "      <td>0.911702</td>\n",
       "      <td>0.927273</td>\n",
       "      <td>0.925842</td>\n",
       "      <td>0.093449</td>\n",
       "      <td>0.393064</td>\n",
       "      <td>86.643020</td>\n",
       "      <td>96.263794</td>\n",
       "    </tr>\n",
       "    <tr>\n",
       "      <td>8</td>\n",
       "      <td></td>\n",
       "      <td>9</td>\n",
       "      <td>0.299954</td>\n",
       "      <td>0.872781</td>\n",
       "      <td>1.836294</td>\n",
       "      <td>1.920651</td>\n",
       "      <td>0.867580</td>\n",
       "      <td>0.891577</td>\n",
       "      <td>0.907436</td>\n",
       "      <td>0.914455</td>\n",
       "      <td>0.183044</td>\n",
       "      <td>0.576108</td>\n",
       "      <td>83.629389</td>\n",
       "      <td>92.065107</td>\n",
       "    </tr>\n",
       "    <tr>\n",
       "      <td>9</td>\n",
       "      <td></td>\n",
       "      <td>10</td>\n",
       "      <td>0.400091</td>\n",
       "      <td>0.779694</td>\n",
       "      <td>1.674015</td>\n",
       "      <td>1.858922</td>\n",
       "      <td>0.790909</td>\n",
       "      <td>0.834574</td>\n",
       "      <td>0.878271</td>\n",
       "      <td>0.894462</td>\n",
       "      <td>0.167630</td>\n",
       "      <td>0.743738</td>\n",
       "      <td>67.401471</td>\n",
       "      <td>85.892183</td>\n",
       "    </tr>\n",
       "    <tr>\n",
       "      <td>10</td>\n",
       "      <td></td>\n",
       "      <td>11</td>\n",
       "      <td>0.500228</td>\n",
       "      <td>0.508886</td>\n",
       "      <td>1.414254</td>\n",
       "      <td>1.769907</td>\n",
       "      <td>0.668182</td>\n",
       "      <td>0.665172</td>\n",
       "      <td>0.836215</td>\n",
       "      <td>0.848562</td>\n",
       "      <td>0.141618</td>\n",
       "      <td>0.885356</td>\n",
       "      <td>41.425381</td>\n",
       "      <td>76.990731</td>\n",
       "    </tr>\n",
       "    <tr>\n",
       "      <td>11</td>\n",
       "      <td></td>\n",
       "      <td>12</td>\n",
       "      <td>0.599909</td>\n",
       "      <td>0.147582</td>\n",
       "      <td>0.850494</td>\n",
       "      <td>1.617137</td>\n",
       "      <td>0.401826</td>\n",
       "      <td>0.305916</td>\n",
       "      <td>0.764036</td>\n",
       "      <td>0.758396</td>\n",
       "      <td>0.084778</td>\n",
       "      <td>0.970135</td>\n",
       "      <td>-14.950599</td>\n",
       "      <td>61.713681</td>\n",
       "    </tr>\n",
       "    <tr>\n",
       "      <td>12</td>\n",
       "      <td></td>\n",
       "      <td>13</td>\n",
       "      <td>0.700046</td>\n",
       "      <td>0.059161</td>\n",
       "      <td>0.269382</td>\n",
       "      <td>1.424350</td>\n",
       "      <td>0.127273</td>\n",
       "      <td>0.092140</td>\n",
       "      <td>0.672952</td>\n",
       "      <td>0.663093</td>\n",
       "      <td>0.026975</td>\n",
       "      <td>0.997110</td>\n",
       "      <td>-73.061832</td>\n",
       "      <td>42.434999</td>\n",
       "    </tr>\n",
       "    <tr>\n",
       "      <td>13</td>\n",
       "      <td></td>\n",
       "      <td>14</td>\n",
       "      <td>0.799727</td>\n",
       "      <td>0.040339</td>\n",
       "      <td>0.028994</td>\n",
       "      <td>1.250427</td>\n",
       "      <td>0.013699</td>\n",
       "      <td>0.047439</td>\n",
       "      <td>0.590780</td>\n",
       "      <td>0.586355</td>\n",
       "      <td>0.002890</td>\n",
       "      <td>1.000000</td>\n",
       "      <td>-97.100589</td>\n",
       "      <td>25.042686</td>\n",
       "    </tr>\n",
       "    <tr>\n",
       "      <td>14</td>\n",
       "      <td></td>\n",
       "      <td>15</td>\n",
       "      <td>0.899863</td>\n",
       "      <td>0.035081</td>\n",
       "      <td>0.000000</td>\n",
       "      <td>1.111280</td>\n",
       "      <td>0.000000</td>\n",
       "      <td>0.037554</td>\n",
       "      <td>0.525038</td>\n",
       "      <td>0.525284</td>\n",
       "      <td>0.000000</td>\n",
       "      <td>1.000000</td>\n",
       "      <td>-100.000000</td>\n",
       "      <td>11.127972</td>\n",
       "    </tr>\n",
       "    <tr>\n",
       "      <td>15</td>\n",
       "      <td></td>\n",
       "      <td>16</td>\n",
       "      <td>1.000000</td>\n",
       "      <td>0.031094</td>\n",
       "      <td>0.000000</td>\n",
       "      <td>1.000000</td>\n",
       "      <td>0.000000</td>\n",
       "      <td>0.033541</td>\n",
       "      <td>0.472462</td>\n",
       "      <td>0.476043</td>\n",
       "      <td>0.000000</td>\n",
       "      <td>1.000000</td>\n",
       "      <td>-100.000000</td>\n",
       "      <td>0.000000</td>\n",
       "    </tr>\n",
       "  </tbody>\n",
       "</table>\n",
       "</div>"
      ],
      "text/plain": [
       "      group  cumulative_data_fraction  lower_threshold      lift  \\\n",
       "0         1                  0.010014         0.942582  2.116570   \n",
       "1         2                  0.020027         0.940139  2.020363   \n",
       "2         3                  0.030041         0.937955  2.020363   \n",
       "3         4                  0.040055         0.936482  2.020363   \n",
       "4         5                  0.050068         0.934407  2.116570   \n",
       "5         6                  0.100137         0.926144  2.001121   \n",
       "6         7                  0.150205         0.916140  1.924155   \n",
       "7         8                  0.200273         0.906633  1.866430   \n",
       "8         9                  0.299954         0.872781  1.836294   \n",
       "9        10                  0.400091         0.779694  1.674015   \n",
       "10       11                  0.500228         0.508886  1.414254   \n",
       "11       12                  0.599909         0.147582  0.850494   \n",
       "12       13                  0.700046         0.059161  0.269382   \n",
       "13       14                  0.799727         0.040339  0.028994   \n",
       "14       15                  0.899863         0.035081  0.000000   \n",
       "15       16                  1.000000         0.031094  0.000000   \n",
       "\n",
       "    cumulative_lift  response_rate     score  cumulative_response_rate  \\\n",
       "0          2.116570       1.000000  0.945579                  1.000000   \n",
       "1          2.068466       0.954545  0.941472                  0.977273   \n",
       "2          2.052432       0.954545  0.938809                  0.969697   \n",
       "3          2.044415       0.954545  0.937219                  0.965909   \n",
       "4          2.058846       1.000000  0.935339                  0.972727   \n",
       "5          2.029983       0.945455  0.930208                  0.959091   \n",
       "6          1.994707       0.909091  0.921775                  0.942424   \n",
       "7          1.962638       0.881818  0.911702                  0.927273   \n",
       "8          1.920651       0.867580  0.891577                  0.907436   \n",
       "9          1.858922       0.790909  0.834574                  0.878271   \n",
       "10         1.769907       0.668182  0.665172                  0.836215   \n",
       "11         1.617137       0.401826  0.305916                  0.764036   \n",
       "12         1.424350       0.127273  0.092140                  0.672952   \n",
       "13         1.250427       0.013699  0.047439                  0.590780   \n",
       "14         1.111280       0.000000  0.037554                  0.525038   \n",
       "15         1.000000       0.000000  0.033541                  0.472462   \n",
       "\n",
       "    cumulative_score  capture_rate  cumulative_capture_rate        gain  \\\n",
       "0           0.945579      0.021195                 0.021195  111.657033   \n",
       "1           0.943525      0.020231                 0.041426  102.036259   \n",
       "2           0.941953      0.020231                 0.061657  102.036259   \n",
       "3           0.940770      0.020231                 0.081888  102.036259   \n",
       "4           0.939684      0.021195                 0.103083  111.657033   \n",
       "5           0.934946      0.100193                 0.203276  100.112104   \n",
       "6           0.930555      0.096339                 0.299615   92.415484   \n",
       "7           0.925842      0.093449                 0.393064   86.643020   \n",
       "8           0.914455      0.183044                 0.576108   83.629389   \n",
       "9           0.894462      0.167630                 0.743738   67.401471   \n",
       "10          0.848562      0.141618                 0.885356   41.425381   \n",
       "11          0.758396      0.084778                 0.970135  -14.950599   \n",
       "12          0.663093      0.026975                 0.997110  -73.061832   \n",
       "13          0.586355      0.002890                 1.000000  -97.100589   \n",
       "14          0.525284      0.000000                 1.000000 -100.000000   \n",
       "15          0.476043      0.000000                 1.000000 -100.000000   \n",
       "\n",
       "    cumulative_gain  \n",
       "0        111.657033  \n",
       "1        106.846646  \n",
       "2        105.243183  \n",
       "3        104.441452  \n",
       "4        105.884568  \n",
       "5        102.998336  \n",
       "6         99.470719  \n",
       "7         96.263794  \n",
       "8         92.065107  \n",
       "9         85.892183  \n",
       "10        76.990731  \n",
       "11        61.713681  \n",
       "12        42.434999  \n",
       "13        25.042686  \n",
       "14        11.127972  \n",
       "15         0.000000  "
      ]
     },
     "metadata": {},
     "output_type": "display_data"
    },
    {
     "name": "stdout",
     "output_type": "stream",
     "text": [
      "\n",
      "\n"
     ]
    }
   ],
   "source": [
    "perf = aml.leader.model_performance(test)\n",
    "print(perf)"
   ]
  },
  {
   "cell_type": "code",
   "execution_count": null,
   "metadata": {},
   "outputs": [],
   "source": []
  }
 ],
 "metadata": {
  "kernelspec": {
   "display_name": "Python 3",
   "language": "python",
   "name": "python3"
  },
  "language_info": {
   "codemirror_mode": {
    "name": "ipython",
    "version": 3
   },
   "file_extension": ".py",
   "mimetype": "text/x-python",
   "name": "python",
   "nbconvert_exporter": "python",
   "pygments_lexer": "ipython3",
   "version": "3.7.4"
  }
 },
 "nbformat": 4,
 "nbformat_minor": 2
}
